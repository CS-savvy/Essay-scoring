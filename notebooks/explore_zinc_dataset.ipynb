{
 "cells": [
  {
   "cell_type": "code",
   "execution_count": 2,
   "id": "925126ce",
   "metadata": {},
   "outputs": [],
   "source": [
    "import numpy as np\n",
    "import torch\n",
    "import pickle\n",
    "import time\n",
    "import os\n",
    "%matplotlib inline\n",
    "import matplotlib.pyplot as plt"
   ]
  },
  {
   "cell_type": "code",
   "execution_count": null,
   "id": "fdb98fba",
   "metadata": {},
   "outputs": [
    {
     "name": "stdout",
     "output_type": "stream",
     "text": [
      "downloading..\n",
      "  % Total    % Received % Xferd  Average Speed   Time    Time     Time  Current\n",
      "                                 Dload  Upload   Total   Spent    Left  Speed\n",
      "100   137    0   137    0     0    186      0 --:--:-- --:--:-- --:--:--   185\n",
      "100   320  100   320    0     0    253      0  0:00:01  0:00:01 --:--:--   253\n",
      " 42  366M   42  156M    0     0  5073k      0  0:01:13  0:00:31  0:00:42 5571k"
     ]
    }
   ],
   "source": [
    "if not os.path.isfile('Dataset/molecules.zip'):\n",
    "    print('downloading..')\n",
    "    !curl https://www.dropbox.com/s/feo9qle74kg48gy/molecules.zip?dl=1 -o Dataset/molecules.zip -J -L -k\n",
    "    !unzip Dataset/molecules.zip -d Dataset/\n",
    "    # !tar -xvf molecules.zip -C ../\n",
    "else:\n",
    "    print('File already downloaded')"
   ]
  },
  {
   "cell_type": "code",
   "execution_count": null,
   "id": "68d82932",
   "metadata": {},
   "outputs": [],
   "source": []
  },
  {
   "cell_type": "code",
   "execution_count": null,
   "id": "f00e35d7",
   "metadata": {},
   "outputs": [],
   "source": []
  }
 ],
 "metadata": {
  "kernelspec": {
   "display_name": "Python 3 (ipykernel)",
   "language": "python",
   "name": "python3"
  },
  "language_info": {
   "codemirror_mode": {
    "name": "ipython",
    "version": 3
   },
   "file_extension": ".py",
   "mimetype": "text/x-python",
   "name": "python",
   "nbconvert_exporter": "python",
   "pygments_lexer": "ipython3",
   "version": "3.8.11"
  }
 },
 "nbformat": 4,
 "nbformat_minor": 5
}
