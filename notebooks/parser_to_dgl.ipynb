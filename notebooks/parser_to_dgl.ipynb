{
 "cells": [
  {
   "cell_type": "code",
   "execution_count": 1,
   "id": "92b72ff5-a17c-41d0-8936-d9a2705831aa",
   "metadata": {},
   "outputs": [
    {
     "name": "stderr",
     "output_type": "stream",
     "text": [
      "Using backend: pytorch\n"
     ]
    }
   ],
   "source": [
    "import pandas as pd\n",
    "from pathlib import Path\n",
    "import spacy\n",
    "import dgl\n",
    "import torch\n",
    "import numpy as np"
   ]
  },
  {
   "cell_type": "code",
   "execution_count": 2,
   "id": "1d8380e4-474c-42f7-a37f-a98fd0060681",
   "metadata": {},
   "outputs": [],
   "source": [
    "data_csv_file = Path(\"Dataset/mohler/mohler_formatted.csv\")\n",
    "column_to_keep = ['id', 'question', 'desired_answer', 'student_answer', 'score_me', 'score_other', 'score_avg']\n",
    "df = pd.read_csv(data_csv_file, delimiter=\",\", encoding='utf8', usecols=column_to_keep)"
   ]
  },
  {
   "cell_type": "code",
   "execution_count": 3,
   "id": "03f5be4a-1a39-4b20-acf7-85c77e578c38",
   "metadata": {},
   "outputs": [
    {
     "data": {
      "text/html": [
       "<div>\n",
       "<style scoped>\n",
       "    .dataframe tbody tr th:only-of-type {\n",
       "        vertical-align: middle;\n",
       "    }\n",
       "\n",
       "    .dataframe tbody tr th {\n",
       "        vertical-align: top;\n",
       "    }\n",
       "\n",
       "    .dataframe thead th {\n",
       "        text-align: right;\n",
       "    }\n",
       "</style>\n",
       "<table border=\"1\" class=\"dataframe\">\n",
       "  <thead>\n",
       "    <tr style=\"text-align: right;\">\n",
       "      <th></th>\n",
       "      <th>id</th>\n",
       "      <th>question</th>\n",
       "      <th>desired_answer</th>\n",
       "      <th>student_answer</th>\n",
       "      <th>score_me</th>\n",
       "      <th>score_other</th>\n",
       "      <th>score_avg</th>\n",
       "    </tr>\n",
       "  </thead>\n",
       "  <tbody>\n",
       "    <tr>\n",
       "      <th>0</th>\n",
       "      <td>1.1</td>\n",
       "      <td>What is the role of a prototype program in pro...</td>\n",
       "      <td>To simulate the behaviour of portions of the d...</td>\n",
       "      <td>High risk problems are address in the prototyp...</td>\n",
       "      <td>4.0</td>\n",
       "      <td>3.0</td>\n",
       "      <td>3.5</td>\n",
       "    </tr>\n",
       "    <tr>\n",
       "      <th>1</th>\n",
       "      <td>1.1</td>\n",
       "      <td>What is the role of a prototype program in pro...</td>\n",
       "      <td>To simulate the behaviour of portions of the d...</td>\n",
       "      <td>To simulate portions of the desired final prod...</td>\n",
       "      <td>5.0</td>\n",
       "      <td>5.0</td>\n",
       "      <td>5.0</td>\n",
       "    </tr>\n",
       "    <tr>\n",
       "      <th>2</th>\n",
       "      <td>1.1</td>\n",
       "      <td>What is the role of a prototype program in pro...</td>\n",
       "      <td>To simulate the behaviour of portions of the d...</td>\n",
       "      <td>A prototype program simulates the behaviors of...</td>\n",
       "      <td>5.0</td>\n",
       "      <td>3.0</td>\n",
       "      <td>4.0</td>\n",
       "    </tr>\n",
       "    <tr>\n",
       "      <th>3</th>\n",
       "      <td>1.1</td>\n",
       "      <td>What is the role of a prototype program in pro...</td>\n",
       "      <td>To simulate the behaviour of portions of the d...</td>\n",
       "      <td>Defined in the Specification phase a prototype...</td>\n",
       "      <td>5.0</td>\n",
       "      <td>5.0</td>\n",
       "      <td>5.0</td>\n",
       "    </tr>\n",
       "    <tr>\n",
       "      <th>4</th>\n",
       "      <td>1.1</td>\n",
       "      <td>What is the role of a prototype program in pro...</td>\n",
       "      <td>To simulate the behaviour of portions of the d...</td>\n",
       "      <td>It is used to let the users have a first idea ...</td>\n",
       "      <td>3.0</td>\n",
       "      <td>3.0</td>\n",
       "      <td>3.0</td>\n",
       "    </tr>\n",
       "  </tbody>\n",
       "</table>\n",
       "</div>"
      ],
      "text/plain": [
       "    id                                           question  \\\n",
       "0  1.1  What is the role of a prototype program in pro...   \n",
       "1  1.1  What is the role of a prototype program in pro...   \n",
       "2  1.1  What is the role of a prototype program in pro...   \n",
       "3  1.1  What is the role of a prototype program in pro...   \n",
       "4  1.1  What is the role of a prototype program in pro...   \n",
       "\n",
       "                                      desired_answer  \\\n",
       "0  To simulate the behaviour of portions of the d...   \n",
       "1  To simulate the behaviour of portions of the d...   \n",
       "2  To simulate the behaviour of portions of the d...   \n",
       "3  To simulate the behaviour of portions of the d...   \n",
       "4  To simulate the behaviour of portions of the d...   \n",
       "\n",
       "                                      student_answer  score_me  score_other  \\\n",
       "0  High risk problems are address in the prototyp...       4.0          3.0   \n",
       "1  To simulate portions of the desired final prod...       5.0          5.0   \n",
       "2  A prototype program simulates the behaviors of...       5.0          3.0   \n",
       "3  Defined in the Specification phase a prototype...       5.0          5.0   \n",
       "4  It is used to let the users have a first idea ...       3.0          3.0   \n",
       "\n",
       "   score_avg  \n",
       "0        3.5  \n",
       "1        5.0  \n",
       "2        4.0  \n",
       "3        5.0  \n",
       "4        3.0  "
      ]
     },
     "execution_count": 3,
     "metadata": {},
     "output_type": "execute_result"
    }
   ],
   "source": [
    "df.head()"
   ]
  },
  {
   "cell_type": "code",
   "execution_count": 4,
   "id": "aea04c02-c620-4d4c-9cfb-e3da29ae5132",
   "metadata": {},
   "outputs": [],
   "source": [
    "nlp = spacy.load('en_core_web_md')"
   ]
  },
  {
   "cell_type": "code",
   "execution_count": 5,
   "id": "9ad18837-8a6b-4a49-a146-9a9e0b6962e2",
   "metadata": {},
   "outputs": [
    {
     "data": {
      "text/plain": [
       "'High risk problems are address in the prototype program to make sure that the program is feasible.  A prototype may also be used to show a company that the software can be possibly programmed.'"
      ]
     },
     "execution_count": 5,
     "metadata": {},
     "output_type": "execute_result"
    }
   ],
   "source": [
    "sample_text = df['student_answer'].iloc[0]\n",
    "sample_text"
   ]
  },
  {
   "cell_type": "code",
   "execution_count": 6,
   "id": "54323ae6-1d0a-4383-8ccc-bfb7c229199f",
   "metadata": {},
   "outputs": [
    {
     "data": {
      "text/plain": [
       "High risk problems are address in the prototype program to make sure that the program is feasible.  A prototype may also be used to show a company that the software can be possibly programmed."
      ]
     },
     "execution_count": 6,
     "metadata": {},
     "output_type": "execute_result"
    }
   ],
   "source": [
    "sample_doc = nlp(sample_text)\n",
    "sample_doc"
   ]
  },
  {
   "cell_type": "code",
   "execution_count": 7,
   "id": "32c19b27-dfa1-46ef-a610-f20865264b88",
   "metadata": {},
   "outputs": [
    {
     "name": "stdout",
     "output_type": "stream",
     "text": [
      "['High', 'risk', 'problems', 'are', 'address', 'in', 'the', 'prototype', 'program', 'to', 'make', 'sure', 'that', 'the', 'program', 'is', 'feasible', '.', ' ', 'A', 'prototype', 'may', 'also', 'be', 'used', 'to', 'show', 'a', 'company', 'that', 'the', 'software', 'can', 'be', 'possibly', 'programmed', '.'] len ->  37\n"
     ]
    }
   ],
   "source": [
    "tok_text = [token.text for token in sample_doc]\n",
    "print (tok_text, 'len -> ', len(tok_text))"
   ]
  },
  {
   "cell_type": "code",
   "execution_count": 67,
   "id": "075b6fb9-c6dc-4715-94b3-1abf927e0ac4",
   "metadata": {},
   "outputs": [
    {
     "name": "stdout",
     "output_type": "stream",
     "text": [
      "['ROOT', 'acl', 'acomp', 'advcl', 'advmod', 'agent', 'amod', 'appos', 'attr', 'aux', 'auxpass', 'case', 'cc', 'ccomp', 'compound', 'conj', 'csubj', 'csubjpass', 'dative', 'dep', 'det', 'dobj', 'expl', 'intj', 'mark', 'meta', 'neg', 'nmod', 'npadvmod', 'nsubj', 'nsubjpass', 'nummod', 'oprd', 'parataxis', 'pcomp', 'pobj', 'poss', 'preconj', 'predet', 'prep', 'prt', 'punct', 'quantmod', 'relcl', 'xcomp']\n"
     ]
    }
   ],
   "source": [
    "with open('dependency_tags.txt', 'r') as f:\n",
    "    dep_map = f.read().split(\"\\n\")\n",
    "print(dep_map)"
   ]
  },
  {
   "cell_type": "code",
   "execution_count": 80,
   "id": "3faf6848-a0f7-45ba-bdd6-2a9bf889a9ae",
   "metadata": {},
   "outputs": [
    {
     "name": "stdout",
     "output_type": "stream",
     "text": [
      "High     0 amod =>     problems  2 adjectival modifier \n",
      "risk     1 compound =>  problems  2 compound \n",
      "problems 2 nsubj =>    are       3 nominal subject \n",
      "address  4 attr =>     are       3 attribute \n",
      "in       5 prep =>     address   4 prepositional modifier \n",
      "the      6 det =>      program   8 determiner \n",
      "prototype 7 compound =>  program   8 compound \n",
      "program  8 pobj =>     in        5 object of preposition \n",
      "to       9 aux =>      make      10 auxiliary \n",
      "make     10 advcl =>    are       3 adverbial clause modifier \n",
      "sure     11 ccomp =>    make      10 clausal complement \n",
      "that     12 mark =>     is        15 marker \n",
      "the      13 det =>      program   14 determiner \n",
      "program  14 nsubj =>    is        15 nominal subject \n",
      "is       15 ccomp =>    sure      11 clausal complement \n",
      "feasible 16 acomp =>    is        15 adjectival complement \n",
      ".        17 punct =>    are       3 punctuation \n",
      "A        19 det =>      prototype 20 determiner \n",
      "prototype 20 nsubjpass =>  used      24 nominal subject (passive) \n",
      "may      21 aux =>      used      24 auxiliary \n",
      "also     22 advmod =>   used      24 adverbial modifier \n",
      "be       23 auxpass =>  used      24 auxiliary (passive) \n",
      "to       25 aux =>      show      26 auxiliary \n",
      "show     26 xcomp =>    used      24 open clausal complement \n",
      "a        27 det =>      company   28 determiner \n",
      "company  28 dobj =>     show      26 direct object \n",
      "that     29 dobj =>     programmed 35 direct object \n",
      "the      30 det =>      software  31 determiner \n",
      "software 31 nsubjpass =>  programmed 35 nominal subject (passive) \n",
      "can      32 aux =>      programmed 35 auxiliary \n",
      "be       33 auxpass =>  programmed 35 auxiliary (passive) \n",
      "possibly 34 advmod =>   programmed 35 adverbial modifier \n",
      "programmed 35 relcl =>    company   28 relative clause modifier \n",
      ".        36 punct =>    used      24 punctuation \n"
     ]
    }
   ],
   "source": [
    "src_nodes = []\n",
    "dst_nodes = []\n",
    "edge_type = []\n",
    "node_text = []\n",
    "for token in sample_doc:\n",
    "    if token.has_vector:\n",
    "        node_text.append(nlp.vocab.vectors.find(key=token.norm))\n",
    "    else:\n",
    "        node_text.append(-1)\n",
    "    if spacy.explain(token.dep_) is None:\n",
    "        # print(token, spacy.explain(token.dep_))\n",
    "        continue\n",
    "    src_nodes.append(token.head.i)\n",
    "    dst_nodes.append(token.i)\n",
    "    edge_type.append(dep_map.index(token.dep_))\n",
    "    print(f\"{token.text:{8}} {token.i} {token.dep_+' =>':{10}}  {token.head.text:{9}} {token.head.i} {spacy.explain(token.dep_)} \")"
   ]
  },
  {
   "cell_type": "code",
   "execution_count": null,
   "id": "a383825a-88e7-412a-9591-f79be72f4340",
   "metadata": {},
   "outputs": [],
   "source": []
  },
  {
   "cell_type": "code",
   "execution_count": 9,
   "id": "20ac181c-5f9a-485e-bac3-dda0eb320cdc",
   "metadata": {},
   "outputs": [],
   "source": [
    "dgl_graph = dgl.graph((src_nodes, dst_nodes), num_nodes=len(sample_doc))"
   ]
  },
  {
   "cell_type": "code",
   "execution_count": 83,
   "id": "208c94e3-4749-47f5-83f7-df85aa9081f0",
   "metadata": {},
   "outputs": [],
   "source": [
    "dgl_graph.ndata['text'] = torch.from_numpy(np.array(node_text, dtype=np.int16))"
   ]
  },
  {
   "cell_type": "code",
   "execution_count": null,
   "id": "b1b6cba1-4317-4fbe-926f-df34a17bc17d",
   "metadata": {},
   "outputs": [],
   "source": []
  },
  {
   "cell_type": "code",
   "execution_count": null,
   "id": "925e09be-d3b1-4b50-ad5b-61f38a1b161e",
   "metadata": {},
   "outputs": [],
   "source": []
  },
  {
   "cell_type": "code",
   "execution_count": null,
   "id": "c3370373-9171-4f71-b10c-713c12bdcd93",
   "metadata": {},
   "outputs": [],
   "source": []
  }
 ],
 "metadata": {
  "kernelspec": {
   "display_name": "Python 3",
   "language": "python",
   "name": "python3"
  },
  "language_info": {
   "codemirror_mode": {
    "name": "ipython",
    "version": 3
   },
   "file_extension": ".py",
   "mimetype": "text/x-python",
   "name": "python",
   "nbconvert_exporter": "python",
   "pygments_lexer": "ipython3",
   "version": "3.7.10"
  }
 },
 "nbformat": 4,
 "nbformat_minor": 5
}
