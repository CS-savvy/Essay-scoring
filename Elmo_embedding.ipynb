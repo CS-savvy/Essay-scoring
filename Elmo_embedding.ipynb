{
 "cells": [
  {
   "cell_type": "code",
   "execution_count": 17,
   "id": "b1a5eee3",
   "metadata": {},
   "outputs": [],
   "source": [
    "from allennlp.data.token_indexers import ELMoTokenCharactersIndexer\n",
    "from allennlp.data.tokenizers import WhitespaceTokenizer\n",
    "from allennlp.data.fields import TextField\n",
    "from allennlp.data import Vocabulary\n",
    "from allennlp.modules.token_embedders import ElmoTokenEmbedder\n",
    "from allennlp.modules.text_field_embedders import BasicTextFieldEmbedder"
   ]
  },
  {
   "cell_type": "code",
   "execution_count": 7,
   "id": "c7179cf7",
   "metadata": {},
   "outputs": [],
   "source": [
    "tokenizer = WhitespaceTokenizer()\n",
    "# Represents each token with an array of characters in a way that ELMo expects.\n",
    "token_indexer = ELMoTokenCharactersIndexer()\n",
    "vocab = Vocabulary()"
   ]
  },
  {
   "cell_type": "code",
   "execution_count": 8,
   "id": "30484e04",
   "metadata": {},
   "outputs": [
    {
     "data": {
      "text/plain": [
       "[This, is, some, text.]"
      ]
     },
     "execution_count": 8,
     "metadata": {},
     "output_type": "execute_result"
    }
   ],
   "source": [
    "text = \"This is some text.\"\n",
    "tokens = tokenizer.tokenize(text)\n",
    "tokens"
   ]
  },
  {
   "cell_type": "code",
   "execution_count": 11,
   "id": "ff4f647c",
   "metadata": {},
   "outputs": [],
   "source": [
    "text_field = TextField(tokens, {\"elmo_tokens\": token_indexer})"
   ]
  },
  {
   "cell_type": "code",
   "execution_count": 14,
   "id": "cd70cebe-9085-43c7-b7e6-e1b8f76276ef",
   "metadata": {},
   "outputs": [
    {
     "data": {
      "text/plain": [
       "{'elmo_tokens': {'elmo_tokens': tensor([[259,  85, 105, 106, 116, 260, 261, 261, 261, 261, 261, 261, 261, 261,\n",
       "           261, 261, 261, 261, 261, 261, 261, 261, 261, 261, 261, 261, 261, 261,\n",
       "           261, 261, 261, 261, 261, 261, 261, 261, 261, 261, 261, 261, 261, 261,\n",
       "           261, 261, 261, 261, 261, 261, 261, 261],\n",
       "          [259, 106, 116, 260, 261, 261, 261, 261, 261, 261, 261, 261, 261, 261,\n",
       "           261, 261, 261, 261, 261, 261, 261, 261, 261, 261, 261, 261, 261, 261,\n",
       "           261, 261, 261, 261, 261, 261, 261, 261, 261, 261, 261, 261, 261, 261,\n",
       "           261, 261, 261, 261, 261, 261, 261, 261],\n",
       "          [259, 116, 112, 110, 102, 260, 261, 261, 261, 261, 261, 261, 261, 261,\n",
       "           261, 261, 261, 261, 261, 261, 261, 261, 261, 261, 261, 261, 261, 261,\n",
       "           261, 261, 261, 261, 261, 261, 261, 261, 261, 261, 261, 261, 261, 261,\n",
       "           261, 261, 261, 261, 261, 261, 261, 261],\n",
       "          [259, 117, 102, 121, 117,  47, 260, 261, 261, 261, 261, 261, 261, 261,\n",
       "           261, 261, 261, 261, 261, 261, 261, 261, 261, 261, 261, 261, 261, 261,\n",
       "           261, 261, 261, 261, 261, 261, 261, 261, 261, 261, 261, 261, 261, 261,\n",
       "           261, 261, 261, 261, 261, 261, 261, 261]])}}"
      ]
     },
     "execution_count": 14,
     "metadata": {},
     "output_type": "execute_result"
    }
   ],
   "source": [
    "text_field.index(vocab)\n",
    "token_tensor = text_field.as_tensor(text_field.get_padding_lengths())\n",
    "token_tensor"
   ]
  },
  {
   "cell_type": "code",
   "execution_count": 23,
   "id": "b64aa6a7-42f4-45b6-9d1c-9c6fa4fb7c59",
   "metadata": {},
   "outputs": [
    {
     "data": {
      "application/vnd.jupyter.widget-view+json": {
       "model_id": "c8801f1f45e9473787a6fca1fe82d49d",
       "version_major": 2,
       "version_minor": 0
      },
      "text/plain": [
       "downloading:   0%|          | 0/336 [00:00<?, ?B/s]"
      ]
     },
     "metadata": {},
     "output_type": "display_data"
    },
    {
     "data": {
      "application/vnd.jupyter.widget-view+json": {
       "model_id": "0d6fa928318146a29b41acc7409001a2",
       "version_major": 2,
       "version_minor": 0
      },
      "text/plain": [
       "downloading:   0%|          | 0/374434792 [00:00<?, ?B/s]"
      ]
     },
     "metadata": {},
     "output_type": "display_data"
    }
   ],
   "source": [
    "elmo_options_file = (\"https://s3-us-west-2.amazonaws.com/allennlp/models/elmo/2x4096_512_2048cnn_2xhighway/elmo_2x4096_512_2048cnn_2xhighway_options.json\")\n",
    "elmo_weight_file = (\"https://s3-us-west-2.amazonaws.com/allennlp/models/elmo/2x4096_512_2048cnn_2xhighway/elmo_2x4096_512_2048cnn_2xhighway_weights.hdf5\")\n",
    "elmo_embedding = ElmoTokenEmbedder(options_file=elmo_options_file, weight_file=elmo_weight_file)"
   ]
  },
  {
   "cell_type": "code",
   "execution_count": 24,
   "id": "ce1acde5-36a8-4081-82b1-05b0de10fd20",
   "metadata": {},
   "outputs": [],
   "source": [
    "embedder = BasicTextFieldEmbedder(token_embedders={\"elmo_tokens\": elmo_embedding})"
   ]
  },
  {
   "cell_type": "code",
   "execution_count": 25,
   "id": "d7e4d79a-9eea-4988-ad5b-06faceeb5f65",
   "metadata": {},
   "outputs": [
    {
     "data": {
      "text/plain": [
       "torch.Size([1, 4, 1024])"
      ]
     },
     "execution_count": 25,
     "metadata": {},
     "output_type": "execute_result"
    }
   ],
   "source": [
    "tensor_dict = text_field.batch_tensors([token_tensor])\n",
    "embedded_tokens = embedder(tensor_dict)\n",
    "embedded_tokens.shape"
   ]
  },
  {
   "cell_type": "code",
   "execution_count": null,
   "id": "422e9c7d-d995-4c9a-b828-0cf899f135c5",
   "metadata": {},
   "outputs": [],
   "source": []
  }
 ],
 "metadata": {
  "kernelspec": {
   "display_name": "Python 3 (ipykernel)",
   "language": "python",
   "name": "python3"
  },
  "language_info": {
   "codemirror_mode": {
    "name": "ipython",
    "version": 3
   },
   "file_extension": ".py",
   "mimetype": "text/x-python",
   "name": "python",
   "nbconvert_exporter": "python",
   "pygments_lexer": "ipython3",
   "version": "3.8.11"
  }
 },
 "nbformat": 4,
 "nbformat_minor": 5
}
